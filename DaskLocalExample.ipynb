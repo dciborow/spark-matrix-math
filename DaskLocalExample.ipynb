{
 "cells": [
  {
   "cell_type": "code",
   "execution_count": 1,
   "metadata": {},
   "outputs": [],
   "source": [
    "import dask"
   ]
  },
  {
   "cell_type": "code",
   "execution_count": 2,
   "metadata": {},
   "outputs": [
    {
     "data": {
      "text/plain": [
       "'0.16.1'"
      ]
     },
     "execution_count": 2,
     "metadata": {},
     "output_type": "execute_result"
    }
   ],
   "source": [
    "dask.__version__"
   ]
  },
  {
   "cell_type": "code",
   "execution_count": 3,
   "metadata": {},
   "outputs": [],
   "source": [
    "import dask.array as da\n",
    "import timeit"
   ]
  },
  {
   "cell_type": "code",
   "execution_count": 4,
   "metadata": {},
   "outputs": [],
   "source": [
    "def run_one(user_dim, item_dim, num_trials=100, chunks=1000):\n",
    "    \n",
    "    users_array = da.random.normal(0, 1, size=(user_dim, item_dim), chunks=(chunks, chunks))\n",
    "    items_array = da.random.normal(0, 1, size=(item_dim, item_dim), chunks=(chunks, chunks))\n",
    "    \n",
    "    start_time = timeit.default_timer()\n",
    "    for t in range(num_trials):  \n",
    "        result = da.matmul(users_array,items_array).persist()\n",
    "        print('{} {}'.format(timeit.default_timer() - start_time, result.shape))\n",
    "    elapsed = timeit.default_timer() - start_time\n",
    "    \n",
    "    return float(elapsed) / num_trials"
   ]
  },
  {
   "cell_type": "code",
   "execution_count": 5,
   "metadata": {},
   "outputs": [],
   "source": [
    "def run_all():\n",
    "    dims = (100000,)\n",
    "    results = {}\n",
    "    for d1 in dims:\n",
    "        for d2 in dims:\n",
    "            results[(d1, d2)] = run_one(d1, d2, num_trials=3)\n",
    "    return results"
   ]
  },
  {
   "cell_type": "code",
   "execution_count": 6,
   "metadata": {},
   "outputs": [
    {
     "name": "stderr",
     "output_type": "stream",
     "text": [
      "/home/mat/.conda/envs/py36/lib/python3.6/site-packages/dask/array/core.py:2166: UserWarning: Increasing number of chunks by factor of 100\n",
      "  (nparts / max_parts))\n"
     ]
    },
    {
     "name": "stdout",
     "output_type": "stream",
     "text": [
      "4280.347998829093 (100000, 100000)\n",
      "8817.412493609008 (100000, 100000)\n",
      "14158.046725257998 (100000, 100000)\n",
      "CPU times: user 3d 3h 43min 42s, sys: 13h 38min 53s, total: 3d 17h 22min 36s\n",
      "Wall time: 3h 55min 58s\n"
     ]
    }
   ],
   "source": [
    "%%time\n",
    "results = run_all()"
   ]
  },
  {
   "cell_type": "code",
   "execution_count": 7,
   "metadata": {},
   "outputs": [
    {
     "name": "stdout",
     "output_type": "stream",
     "text": [
      "{(100000, 100000): 4719.348964151034}\n"
     ]
    }
   ],
   "source": [
    "print(results)"
   ]
  }
 ],
 "metadata": {
  "kernelspec": {
   "display_name": "Python 3",
   "language": "python",
   "name": "python3"
  },
  "language_info": {
   "codemirror_mode": {
    "name": "ipython",
    "version": 3
   },
   "file_extension": ".py",
   "mimetype": "text/x-python",
   "name": "python",
   "nbconvert_exporter": "python",
   "pygments_lexer": "ipython3",
   "version": "3.6.4"
  }
 },
 "nbformat": 4,
 "nbformat_minor": 2
}
